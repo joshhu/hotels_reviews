{
 "cells": [
  {
   "cell_type": "code",
   "execution_count": 25,
   "metadata": {},
   "outputs": [
    {
     "name": "stdout",
     "output_type": "stream",
     "text": [
      "前言\n",
      "案例，並且說明在Notebook上進行程式開發的實作案例和演算法偵錯的\n",
      "實作案例。\n",
      "隨著網際網路企業的高速發展，人們取得資訊的方式越來越多，從主動取\n",
      "本書主要對推薦系統中的常見方法和工具進行全面說明，並且配合說明演\n",
      "得資訊逐漸層為被動接收資訊，資訊量也呈爆發式增長。因此，人們已經\n",
      "算法原理、實現以及案例，透過本書可從基礎到實作全面掌握推薦系統中\n",
      "從資訊匱乏時代進入資訊「超載」時代。人們對資訊取得的有效性和針對\n",
      "的推薦演算法。\n",
      "性的需求隨之出現，推薦系統也應運而生。推薦系統就是網際網路時代的\n",
      "一種資訊檢索工具，推薦系統的工作就是連接使用者和資訊，創造價值。 學習本書內容需要具備以下基礎：Python 基礎知識、Spark 基礎知識、\n",
      "TensorFlow基礎知識、Scala基礎知識、線性代數基礎知識等。\n",
      "推薦系統從20世紀90年代開始出現，逐漸成為一種獨立的學科，並且在\n",
      "學術界和工業界應用中都獲得了諸多成果。本書主要說明目前學術界和工 本書針對以下各種讀者：機器學習工程師、資料採擷工程師、大數據工程\n",
      "業界的一些主流、常用的推薦方法和工具。 師、各大專院校的所究所學生和高年級大學生等。\n",
      "首先從基礎開始，介紹數學基礎、實際的推薦系統，以及常用的推薦演算\n",
      "✤ 本書學習指南\n",
      "法工具，包含目前主流的工具Sklearn、Spark MLlib、TensorFlow，並且介\n",
      "紹效率提升工具Zeppelin Notebook和Jupyter Notebook。 第1篇  推薦系統的演算法基礎 本部分涵蓋以下內容： 透過本部分的學\n",
      "•  推薦演算法的基礎知識 習，可掌握數學基\n",
      "第1章  數學基礎\n",
      "隨後說明推薦系統中的召回演算法，包含常見的協作過濾和Word2vec兩個 說明，包含數學基礎知 礎、常用工具、推\n",
      "第2章  推薦系統介紹 薦系統入門等相關\n",
      "識的說明，如對線性代\n",
      "演算法，並且介紹這兩個演算法在Spark、TensorFlow主流工具中的實現。 知識\n",
      "第3章  推薦演算法工具 數、機率與統計、損失\n",
      "函數、最佳化方法和評\n",
      "接著說明推薦系統中的排序演算法—線性模型，包含常見的邏輯回歸和\n",
      "價方法等內容的介紹；\n",
      "FM 兩個演算法，並且介紹這兩個演算法在 Sklearn、Spark、TensorFlow\n",
      "•  對實際推薦系統的介紹；\n",
      "主流工具中的實現。 •  常用的推薦演算法工\n",
      "具，如：Sklearn、Spark \n",
      "然後說明推薦系統中的排序演算法—樹模型，包含常見的隨機森林、\n",
      "MLlib、TensorFlow、\n",
      "GBDT、GBDT+LR、整合學習演算法以及最近出現的深度森林演算法，並 Zeppelin Notebook 和\n",
      "Jupyter Notebook\n",
      "且介紹各個演算法在Sklearn、Spark、TensorFlow主流工具中的實現。\n",
      "第2篇  推薦系統的召回演算法 本部分介紹推薦系統的召 透過本部分的學\n",
      "之後說明推薦系統中的排序演算法—深度學習模型，包含深度學習在推 回演算法，包含常見的協 習，可掌握常見的\n",
      "第4章  協作過濾—以行為相似為\n",
      "作過濾和Word2vec 兩個召回演算法，\n",
      "薦演算法中的應用、常見的DNN演算法以及最近出現的DeepFM、Wide  基礎的召回\n",
      "以 及 其 在 Spark、\n",
      "& Deep、YouTube推薦模型等，並且介紹各個演算法在TensorFlow工具中 第5章  Word2vec—以內容相似 TensorFlow主流工\n",
      "為基礎的召回 具中的實現，讀者\n",
      "的實現。\n",
      "可以實現簡單的召\n",
      "回方法開發，並可\n",
      "最後說明電子商務平台的商品召回、音樂的評分預測、Kaggle 競賽\n",
      "以實現實際的實作\n",
      "Outbrain的點擊率預估和電子商務商品點擊率預估4個推薦演算法的實作 應用\n",
      "iii\n"
     ]
    }
   ],
   "source": [
    "import pandas as pd\n",
    "import pdfplumber\n",
    "\n",
    "pdffile=\"./dm2034.pdf\"\n",
    "pdf = pdfplumber.open(pdffile)\n",
    "p0 = pdf.pages[2]\n",
    "text=p0.extract_text()       #讀文字\n",
    "print(text)"
   ]
  }
 ],
 "metadata": {
  "kernelspec": {
   "display_name": "Python [conda env:nlp] *",
   "language": "python",
   "name": "conda-env-nlp-py"
  },
  "language_info": {
   "codemirror_mode": {
    "name": "ipython",
    "version": 3
   },
   "file_extension": ".py",
   "mimetype": "text/x-python",
   "name": "python",
   "nbconvert_exporter": "python",
   "pygments_lexer": "ipython3",
   "version": "3.7.7"
  }
 },
 "nbformat": 4,
 "nbformat_minor": 4
}
